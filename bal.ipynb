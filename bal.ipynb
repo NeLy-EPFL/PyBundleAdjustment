{
 "metadata": {
  "language_info": {
   "codemirror_mode": {
    "name": "ipython",
    "version": 3
   },
   "file_extension": ".py",
   "mimetype": "text/x-python",
   "name": "python",
   "nbconvert_exporter": "python",
   "pygments_lexer": "ipython3",
   "version": "3.6.13-final"
  },
  "orig_nbformat": 2,
  "kernelspec": {
   "name": "python3",
   "display_name": "Python 3.6.13 64-bit",
   "metadata": {
    "interpreter": {
     "hash": "db3360215ab2ad45213e9b73fa620f3cac2f28e9a9490bc0752d0ea4b36e48c4"
    }
   }
  }
 },
 "nbformat": 4,
 "nbformat_minor": 2,
 "cells": [
  {
   "cell_type": "code",
   "execution_count": 1,
   "metadata": {},
   "outputs": [],
   "source": [
    "%load_ext autoreload\n",
    "%autoreload 2\n",
    "\n",
    "# https://scipy-cookbook.readthedocs.io/items/bundle_adjustment.html\n",
    "import urllib\n",
    "import bz2\n",
    "import os\n",
    "import numpy as np\n",
    "\n",
    "BASE_URL = \"http://grail.cs.washington.edu/projects/bal/data/ladybug/\"\n",
    "FILE_NAME = \"problem-49-7776-pre.txt.bz2\"\n",
    "URL = BASE_URL + FILE_NAME\n",
    "\n",
    "if not os.path.isfile(FILE_NAME):\n",
    "    urllib.request.urlretrieve(URL, FILE_NAME)"
   ]
  },
  {
   "cell_type": "code",
   "execution_count": 2,
   "metadata": {},
   "outputs": [],
   "source": [
    "def read_bal_data(file_name):\n",
    "    with bz2.open(file_name, \"rt\") as file:\n",
    "        n_cameras, n_points, n_observations = map(\n",
    "            int, file.readline().split())\n",
    "\n",
    "        camera_indices = np.zeros(n_observations, dtype=int)\n",
    "        points_2d = np.zeros((n_cameras, n_points, 1, 2))\n",
    "\n",
    "        for i in range(n_observations):\n",
    "            camera_index, point_index, x, y = file.readline().split()\n",
    "            points_2d[int(camera_index), int(point_index)] = [float(x), float(y)]\n",
    "\n",
    "        calib = {}\n",
    "        camera_params = np.empty(n_cameras * 9)\n",
    "        for i in range(n_cameras * 9):\n",
    "            camera_params[i] = float(file.readline())\n",
    "        camera_params = camera_params.reshape((n_cameras, -1))\n",
    "\n",
    "        points_3d = np.empty(n_points * 3)\n",
    "        for i in range(n_points * 3):\n",
    "            points_3d[i] = float(file.readline())\n",
    "        points_3d = points_3d.reshape((n_points, 1, -1))\n",
    "\n",
    "    return camera_params, points_3d, points_2d"
   ]
  },
  {
   "cell_type": "code",
   "execution_count": 3,
   "metadata": {},
   "outputs": [],
   "source": [
    "camera_params, _, points2d = read_bal_data(FILE_NAME)\n"
   ]
  },
  {
   "cell_type": "code",
   "execution_count": 21,
   "metadata": {},
   "outputs": [],
   "source": [
    "'''\n",
    "cam.rvec = camera_params[0:3]\n",
    "cam.tvec = camera_params[3:6]\n",
    "if update_intrinsic:\n",
    "    cam.fx = camera_params[6]\n",
    "    cam.fy = camera_params[7]\n",
    "if update_distort:\n",
    "    cam.distort  = camera_params[8:13]\n",
    "'''\n",
    "import cv2\n",
    "calib = dict()\n",
    "for cid, params in enumerate(camera_params):\n",
    "    calib[cid] = {\"R\": cv2.Rodrigues(params[0:3])[0], \"tvec\": params[3:6], \"intr\": np.array([[params[6], 0, 0], [0, params[6], 0], [0, 0, 1]]), \"distort\":np.array([params[7], params[8], 0, 0, 0], dtype=float)}"
   ]
  },
  {
   "cell_type": "code",
   "execution_count": 22,
   "metadata": {
    "tags": []
   },
   "outputs": [],
   "source": [
    "from pyba.CameraNetwork import CameraNetwork\n",
    "camNet = CameraNetwork(points2d=points2d, calib=calib)"
   ]
  },
  {
   "cell_type": "code",
   "execution_count": 23,
   "metadata": {},
   "outputs": [
    {
     "output_type": "execute_result",
     "data": {
      "text/plain": [
       "174.46979936316617"
      ]
     },
     "metadata": {},
     "execution_count": 23
    }
   ],
   "source": [
    "np.mean(camNet.reprojection_error())"
   ]
  },
  {
   "cell_type": "code",
   "execution_count": 24,
   "metadata": {},
   "outputs": [
    {
     "output_type": "stream",
     "name": "stdout",
     "text": [
      "   Iteration     Total nfev        Cost      Cost reduction    Step norm     Optimality   \n",
      "       0              1         5.2517e+09                                    5.00e+12    \n",
      "       1              4         1.4960e+09      3.76e+09       2.01e+02       5.35e+11    \n",
      "       2              5         2.0929e+08      1.29e+09       9.38e+02       3.85e+10    \n",
      "       3              7         1.2667e+08      8.26e+07       3.61e+02       2.09e+10    \n",
      "       4              8         4.5131e+07      8.15e+07       6.03e+02       4.51e+09    \n",
      "       5             10         2.8721e+07      1.64e+07       2.90e+02       2.53e+09    \n",
      "       6             12         2.3438e+07      5.28e+06       1.36e+02       1.87e+09    \n",
      "       7             13         1.5332e+07      8.11e+06       1.63e+02       6.51e+08    \n",
      "       8             15         1.3559e+07      1.77e+06       1.54e+02       2.80e+08    \n",
      "       9             16         1.2066e+07      1.49e+06       2.87e+02       1.64e+08    \n",
      "      10             18         1.1475e+07      5.91e+05       1.29e+02       1.41e+08    \n",
      "      11             19         1.0475e+07      1.00e+06       2.87e+02       2.12e+08    \n",
      "      12             20         9.6591e+06      8.16e+05       4.96e+02       2.55e+08    \n",
      "      13             22         9.1485e+06      5.11e+05       1.33e+02       1.13e+09    \n",
      "      14             24         8.7518e+06      3.97e+05       3.88e+01       1.33e+08    \n",
      "      15             25         8.5118e+06      2.40e+05       7.99e+01       1.12e+08    \n",
      "      16             26         8.3153e+06      1.96e+05       1.42e+02       5.58e+07    \n",
      "      17             27         8.0844e+06      2.31e+05       1.61e+02       4.50e+08    \n",
      "      18             29         7.9596e+06      1.25e+05       5.36e+01       3.40e+08    \n",
      "      19             30         7.8399e+06      1.20e+05       1.08e+02       8.80e+09    \n",
      "      20             31         7.4853e+06      3.55e+05       1.57e+02       5.66e+08    \n",
      "      21             33         7.4254e+06      5.99e+04       5.53e+01       1.62e+08    \n",
      "      22             34         7.4063e+06      1.91e+04       1.06e+02       2.96e+10    \n",
      "      23             36         7.2630e+06      1.43e+05       1.08e+01       1.16e+09    \n",
      "      24             37         7.2260e+06      3.70e+04       1.89e+01       3.32e+08    \n",
      "      25             38         7.1925e+06      3.35e+04       3.31e+01       2.50e+08    \n",
      "      26             39         7.1502e+06      4.24e+04       3.99e+01       5.19e+07    \n",
      "      27             40         7.0874e+06      6.28e+04       9.81e+01       2.86e+09    \n",
      "      28             41         6.9980e+06      8.94e+04       1.78e+02       5.78e+09    \n",
      "      29             42         6.9821e+06      1.58e+04       3.20e+02       1.16e+09    \n",
      "      30             43         6.7829e+06      1.99e+05       6.95e+01       2.78e+08    \n",
      "      31             45         6.7409e+06      4.20e+04       3.04e+01       8.93e+08    \n",
      "      32             47         6.6693e+06      7.16e+04       4.15e+00       8.18e+07    \n",
      "      33             48         6.6620e+06      7.29e+03       9.21e+00       3.90e+08    \n",
      "      34             49         6.6311e+06      3.09e+04       4.19e+00       5.19e+07    \n",
      "      35             50         6.6267e+06      4.40e+03       3.20e+00       3.55e+07    \n",
      "      36             51         6.6237e+06      3.05e+03       5.29e+00       3.54e+07    \n",
      "      37             52         6.6188e+06      4.86e+03       8.53e+00       3.53e+07    \n",
      "      38             53         6.6107e+06      8.05e+03       1.18e+01       1.18e+08    \n",
      "      39             54         6.5990e+06      1.17e+04       2.65e+01       9.57e+07    \n",
      "      40             55         6.5812e+06      1.79e+04       8.22e+01       2.33e+08    \n",
      "      41             56         6.5510e+06      3.02e+04       2.16e+02       2.68e+08    \n",
      "      42             57         6.4963e+06      5.46e+04       4.06e+02       2.12e+09    \n",
      "      43             58         6.4082e+06      8.82e+04       5.50e+02       1.53e+10    \n",
      "      44             59         6.2354e+06      1.73e+05       2.74e+02       2.69e+10    \n",
      "      45             60         6.1238e+06      1.12e+05       7.27e+02       2.45e+11    \n",
      "      46             61         5.8571e+06      2.67e+05       6.34e+02       2.56e+11    \n",
      "      47             64         5.8027e+06      5.44e+04       7.55e+01       4.02e+10    \n",
      "      48             67         5.7906e+06      1.22e+04       1.23e+01       5.79e+10    \n",
      "      49             68         5.7579e+06      3.27e+04       4.02e+01       9.70e+09    \n",
      "      50             70         5.7525e+06      5.36e+03       1.79e+01       3.44e+10    \n",
      "      51             71         5.7423e+06      1.02e+04       4.06e+01       8.00e+09    \n",
      "      52             72         5.7289e+06      1.34e+04       5.20e+01       2.05e+10    \n",
      "      53             73         5.7085e+06      2.04e+04       6.26e+01       2.24e+09    \n",
      "      54             74         5.6808e+06      2.77e+04       1.78e+02       7.79e+09    \n",
      "      55             75         5.6579e+06      2.30e+04       2.68e+02       1.24e+10    \n",
      "      56             76         5.5338e+06      1.24e+05       5.24e+02       7.79e+09    \n",
      "      57             77         5.4182e+06      1.16e+05       4.90e+02       2.95e+10    \n",
      "      58             79         5.3411e+06      7.71e+04       2.89e+02       4.49e+09    \n",
      "      59             80         5.3353e+06      5.78e+03       5.71e+02       1.06e+11    \n",
      "      60             82         5.1918e+06      1.44e+05       3.61e+01       8.26e+10    \n",
      "      61             84         5.1522e+06      3.96e+04       1.58e+01       8.11e+10    \n",
      "      62             86         5.1260e+06      2.62e+04       6.81e+00       1.74e+11    \n",
      "      63             88         5.1068e+06      1.92e+04       3.31e+00       1.14e+11    \n",
      "      64             89         5.0804e+06      2.64e+04       6.39e+00       9.29e+10    \n",
      "      65             90         5.0629e+06      1.75e+04       1.66e+01       3.12e+10    \n",
      "      66             92         5.0597e+06      3.15e+03       4.91e+00       7.97e+10    \n",
      "      67             93         5.0529e+06      6.79e+03       4.53e+00       5.09e+10    \n",
      "      68             94         5.0499e+06      2.99e+03       9.84e+00       5.81e+10    \n",
      "      69             95         5.0463e+06      3.59e+03       2.01e+01       5.79e+10    \n",
      "      70             96         5.0386e+06      7.74e+03       5.74e+01       1.22e+10    \n",
      "      71             97         5.0281e+06      1.05e+04       6.84e+01       1.07e+11    \n",
      "      72             98         5.0123e+06      1.58e+04       1.12e+02       8.25e+10    \n",
      "      73             99         4.9848e+06      2.75e+04       2.44e+02       5.61e+09    \n",
      "      74             100        4.9299e+06      5.49e+04       4.63e+02       1.50e+11    \n",
      "The maximum number of function evaluations is exceeded.\n",
      "Function evaluations 100, initial cost 5.2517e+09, final cost 4.9299e+06, first-order optimality 1.50e+11.\n"
     ]
    },
    {
     "output_type": "execute_result",
     "data": {
      "text/plain": [
       " active_mask: array([0., 0., 0., ..., 0., 0., 0.])\n",
       "        cost: 4929928.542634447\n",
       "         fun: array([ 16.44849176, -10.08994003,   9.07287686, ...,  -6.56597499,\n",
       "         0.80971913,  -5.62253594])\n",
       "        grad: array([-9.39086994e+09,  1.49843252e+11,  1.46984253e+10, ...,\n",
       "       -5.00264975e+05,  6.10371814e+05, -3.11581332e+07])\n",
       "         jac: <8204x3637 sparse matrix of type '<class 'numpy.float64'>'\n",
       "\twith 131264 stored elements in Compressed Sparse Row format>\n",
       "     message: 'The maximum number of function evaluations is exceeded.'\n",
       "        nfev: 100\n",
       "        njev: 75\n",
       "  optimality: 149843252422.39404\n",
       "      status: 0\n",
       "     success: False\n",
       "           x: array([ 0.00305115, -0.0054141 , -0.00106268, ..., -0.36301288,\n",
       "        0.28582571, -0.01773095])"
      ]
     },
     "metadata": {},
     "execution_count": 24
    }
   ],
   "source": [
    "from pyba.pyba import bundle_adjust\n",
    "bundle_adjust(camNet, update_distort=False, update_intrinsic=True, max_num_images=1000)"
   ]
  },
  {
   "cell_type": "code",
   "execution_count": 25,
   "metadata": {},
   "outputs": [
    {
     "output_type": "execute_result",
     "data": {
      "text/plain": [
       "1084036.251123258"
      ]
     },
     "metadata": {},
     "execution_count": 25
    }
   ],
   "source": [
    "np.mean(camNet.reprojection_error())"
   ]
  },
  {
   "cell_type": "code",
   "execution_count": 26,
   "metadata": {},
   "outputs": [
    {
     "output_type": "execute_result",
     "data": {
      "text/plain": [
       "array([[[ -0.04597823,   0.48529548,  -0.94861022]],\n",
       "\n",
       "       [[ -0.60064826, -16.31248157,  -4.22512892]],\n",
       "\n",
       "       [[  0.26095218, -31.61228772,  -3.43733708]],\n",
       "\n",
       "       ...,\n",
       "\n",
       "       [[  1.29200712,   0.03943001,  -4.55609577]],\n",
       "\n",
       "       [[  0.53202375,   0.05454598,  -3.32926069]],\n",
       "\n",
       "       [[  0.61051468,   0.05996293,  -3.39874165]]])"
      ]
     },
     "metadata": {},
     "execution_count": 26
    }
   ],
   "source": [
    "camNet.triangulate()"
   ]
  }
 ]
}