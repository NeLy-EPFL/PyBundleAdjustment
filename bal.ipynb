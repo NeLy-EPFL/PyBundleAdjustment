{
 "metadata": {
  "language_info": {
   "codemirror_mode": {
    "name": "ipython",
    "version": 3
   },
   "file_extension": ".py",
   "mimetype": "text/x-python",
   "name": "python",
   "nbconvert_exporter": "python",
   "pygments_lexer": "ipython3",
   "version": "3.6.13-final"
  },
  "orig_nbformat": 2,
  "kernelspec": {
   "name": "python3",
   "display_name": "Python 3.6.13 64-bit",
   "metadata": {
    "interpreter": {
     "hash": "db3360215ab2ad45213e9b73fa620f3cac2f28e9a9490bc0752d0ea4b36e48c4"
    }
   }
  }
 },
 "nbformat": 4,
 "nbformat_minor": 2,
 "cells": [
  {
   "cell_type": "code",
   "execution_count": 10,
   "metadata": {},
   "outputs": [
    {
     "output_type": "stream",
     "name": "stdout",
     "text": [
      "The autoreload extension is already loaded. To reload it, use:\n  %reload_ext autoreload\n"
     ]
    }
   ],
   "source": [
    "%load_ext autoreload\n",
    "%autoreload 2\n",
    "\n",
    "# https://scipy-cookbook.readthedocs.io/items/bundle_adjustment.html\n",
    "import urllib\n",
    "import bz2\n",
    "import os\n",
    "import numpy as np\n",
    "\n",
    "BASE_URL = \"http://grail.cs.washington.edu/projects/bal/data/ladybug/\"\n",
    "FILE_NAME = \"problem-49-7776-pre.txt.bz2\"\n",
    "URL = BASE_URL + FILE_NAME\n",
    "\n",
    "if not os.path.isfile(FILE_NAME):\n",
    "    urllib.request.urlretrieve(URL, FILE_NAME)"
   ]
  },
  {
   "cell_type": "code",
   "execution_count": 11,
   "metadata": {},
   "outputs": [],
   "source": [
    "def read_bal_data(file_name):\n",
    "    with bz2.open(file_name, \"rt\") as file:\n",
    "        n_cameras, n_points, n_observations = map(\n",
    "            int, file.readline().split())\n",
    "\n",
    "        camera_indices = np.zeros(n_observations, dtype=int)\n",
    "        points_2d = np.zeros((n_cameras, n_points, 1, 2))\n",
    "\n",
    "        for i in range(n_observations):\n",
    "            camera_index, point_index, x, y = file.readline().split()\n",
    "            points_2d[int(camera_index), int(point_index)] = [float(x), float(y)]\n",
    "\n",
    "        calib = {}\n",
    "        camera_params = np.empty(n_cameras * 9)\n",
    "        for i in range(n_cameras * 9):\n",
    "            camera_params[i] = float(file.readline())\n",
    "        camera_params = camera_params.reshape((n_cameras, -1))\n",
    "\n",
    "        points_3d = np.empty(n_points * 3)\n",
    "        for i in range(n_points * 3):\n",
    "            points_3d[i] = float(file.readline())\n",
    "        points_3d = points_3d.reshape((n_points, 1, -1))\n",
    "\n",
    "    return camera_params, points_3d, points_2d"
   ]
  },
  {
   "cell_type": "code",
   "execution_count": 12,
   "metadata": {},
   "outputs": [],
   "source": [
    "camera_params, _, points2d = read_bal_data(FILE_NAME)\n"
   ]
  },
  {
   "cell_type": "code",
   "execution_count": null,
   "metadata": {},
   "outputs": [],
   "source": []
  },
  {
   "cell_type": "code",
   "execution_count": 13,
   "metadata": {},
   "outputs": [],
   "source": [
    "'''\n",
    "cam.rvec = camera_params[0:3]\n",
    "cam.tvec = camera_params[3:6]\n",
    "if update_intrinsic:\n",
    "    cam.fx = camera_params[6]\n",
    "    cam.fy = camera_params[7]\n",
    "if update_distort:\n",
    "    cam.distort  = camera_params[8:13]\n",
    "'''\n",
    "import cv2\n",
    "calib = dict()\n",
    "for cid, params in enumerate(camera_params):\n",
    "    calib[cid] = {\"R\": cv2.Rodrigues(params[0:3])[0], \"tvec\": params[3:6], \"intr\": np.array([[params[6], 0, 0], [0, params[7], 0], [0, 0, 1]]), \"distort\":np.zeros(5)}"
   ]
  },
  {
   "cell_type": "code",
   "execution_count": 14,
   "metadata": {},
   "outputs": [],
   "source": [
    "from pyba.CameraNetwork import CameraNetwork\n",
    "camNet = CameraNetwork(points2d=points2d, calib=calib)"
   ]
  },
  {
   "cell_type": "code",
   "execution_count": 27,
   "metadata": {},
   "outputs": [
    {
     "output_type": "execute_result",
     "data": {
      "text/plain": [
       "1.2810801193150386e+19"
      ]
     },
     "metadata": {},
     "execution_count": 27
    }
   ],
   "source": [
    "np.mean(camNet.reprojection_error())"
   ]
  },
  {
   "cell_type": "code",
   "execution_count": 26,
   "metadata": {},
   "outputs": [
    {
     "output_type": "stream",
     "name": "stdout",
     "text": [
      "7776 1000.0\n",
      "(3936, 2) (3936,)\n",
      "   Iteration     Total nfev        Cost      Cost reduction    Step norm     Optimality   \n",
      "       0              1         2.2936e+11                                    3.84e+82    \n",
      "       1              8         2.2841e+11      9.55e+08       3.86e+05       3.83e+82    \n",
      "       2              9         2.2626e+11      2.14e+09       5.98e+05       3.80e+82    \n",
      "       3             10         2.2248e+11      3.79e+09       1.43e+06       3.75e+82    \n",
      "       4             11         2.1533e+11      7.15e+09       3.88e+06       1.93e+83    \n",
      "       5             13         2.1204e+11      3.29e+09       1.93e+06       1.02e+84    \n",
      "       6             15         2.1030e+11      1.74e+09       8.90e+05       2.53e+84    \n",
      "       7             16         2.0716e+11      3.15e+09       1.72e+06       2.58e+85    \n",
      "       8             26         2.0716e+11      0.00e+00       0.00e+00       2.58e+85    \n",
      "`xtol` termination condition is satisfied.\n",
      "Function evaluations 26, initial cost 2.2936e+11, final cost 2.0716e+11, first-order optimality 2.58e+85.\n"
     ]
    },
    {
     "output_type": "execute_result",
     "data": {
      "text/plain": [
       " active_mask: array([0., 0., 0., ..., 0., 0., 0.])\n",
       "        cost: 207156693990.43845\n",
       "         fun: array([ 8.01166720e+01, -2.58967776e+02,  1.61132770e+02, ...,\n",
       "       -1.87892645e+01,  2.13980907e-01, -1.05351745e+01])\n",
       "        grad: array([-7.03873018e+12, -2.35965488e+10,  3.80007399e+10, ...,\n",
       "       -1.49380809e+01,  2.25805910e+00,  1.52565384e+02])\n",
       "         jac: <7872x3637 sparse matrix of type '<class 'numpy.float64'>'\n",
       "\twith 125952 stored elements in Compressed Sparse Row format>\n",
       "     message: '`xtol` termination condition is satisfied.'\n",
       "        nfev: 26\n",
       "        njev: 8\n",
       "  optimality: 2.575039144953272e+85\n",
       "      status: 3\n",
       "     success: True\n",
       "           x: array([ 1.57487309e-02, -9.72245515e-03, -4.61050474e-03, ...,\n",
       "       -3.43200687e+01,  2.90746037e+03, -4.59820635e+01])"
      ]
     },
     "metadata": {},
     "execution_count": 26
    }
   ],
   "source": [
    "from pyba.pyba import bundle_adjust\n",
    "bundle_adjust(camNet, update_distort=False, update_intrinsic=True)"
   ]
  }
 ]
}