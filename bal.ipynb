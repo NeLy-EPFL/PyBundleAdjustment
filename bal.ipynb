{
 "metadata": {
  "language_info": {
   "codemirror_mode": {
    "name": "ipython",
    "version": 3
   },
   "file_extension": ".py",
   "mimetype": "text/x-python",
   "name": "python",
   "nbconvert_exporter": "python",
   "pygments_lexer": "ipython3",
   "version": "3.6.13-final"
  },
  "orig_nbformat": 2,
  "kernelspec": {
   "name": "python3",
   "display_name": "Python 3.6.13 64-bit",
   "metadata": {
    "interpreter": {
     "hash": "db3360215ab2ad45213e9b73fa620f3cac2f28e9a9490bc0752d0ea4b36e48c4"
    }
   }
  }
 },
 "nbformat": 4,
 "nbformat_minor": 2,
 "cells": [
  {
   "cell_type": "code",
   "execution_count": 1,
   "metadata": {},
   "outputs": [],
   "source": [
    "%load_ext autoreload\n",
    "%autoreload 2\n",
    "\n",
    "# https://scipy-cookbook.readthedocs.io/items/bundle_adjustment.html\n",
    "import urllib\n",
    "import bz2\n",
    "import os\n",
    "import numpy as np\n",
    "\n",
    "BASE_URL = \"http://grail.cs.washington.edu/projects/bal/data/ladybug/\"\n",
    "FILE_NAME = \"problem-49-7776-pre.txt.bz2\"\n",
    "URL = BASE_URL + FILE_NAME\n",
    "\n",
    "if not os.path.isfile(FILE_NAME):\n",
    "    urllib.request.urlretrieve(URL, FILE_NAME)"
   ]
  },
  {
   "cell_type": "code",
   "execution_count": 2,
   "metadata": {},
   "outputs": [],
   "source": [
    "def read_bal_data(file_name):\n",
    "    with bz2.open(file_name, \"rt\") as file:\n",
    "        n_cameras, n_points, n_observations = map(\n",
    "            int, file.readline().split())\n",
    "\n",
    "        camera_indices = np.zeros(n_observations, dtype=int)\n",
    "        points_2d = np.zeros((n_cameras, n_points, 1, 2))\n",
    "\n",
    "        for i in range(n_observations):\n",
    "            camera_index, point_index, x, y = file.readline().split()\n",
    "            points_2d[int(camera_index), int(point_index)] = [float(x), float(y)]\n",
    "\n",
    "        calib = {}\n",
    "        camera_params = np.empty(n_cameras * 9)\n",
    "        for i in range(n_cameras * 9):\n",
    "            camera_params[i] = float(file.readline())\n",
    "        camera_params = camera_params.reshape((n_cameras, -1))\n",
    "\n",
    "        points_3d = np.empty(n_points * 3)\n",
    "        for i in range(n_points * 3):\n",
    "            points_3d[i] = float(file.readline())\n",
    "        points_3d = points_3d.reshape((n_points, 1, -1))\n",
    "\n",
    "    return camera_params, points_3d, points_2d"
   ]
  },
  {
   "cell_type": "code",
   "execution_count": 3,
   "metadata": {},
   "outputs": [],
   "source": [
    "camera_params, _, points2d = read_bal_data(FILE_NAME)\n"
   ]
  },
  {
   "cell_type": "code",
   "execution_count": 21,
   "metadata": {},
   "outputs": [],
   "source": [
    "'''\n",
    "cam.rvec = camera_params[0:3]\n",
    "cam.tvec = camera_params[3:6]\n",
    "if update_intrinsic:\n",
    "    cam.fx = camera_params[6]\n",
    "    cam.fy = camera_params[7]\n",
    "if update_distort:\n",
    "    cam.distort  = camera_params[8:13]\n",
    "'''\n",
    "import cv2\n",
    "calib = dict()\n",
    "for cid, params in enumerate(camera_params):\n",
    "    calib[cid] = {\"R\": cv2.Rodrigues(params[0:3])[0], \"tvec\": params[3:6], \"intr\": np.array([[params[6], 0, 0], [0, params[6], 0], [0, 0, 1]]), \"distort\":np.array([params[7], params[8], 0, 0, 0], dtype=float)}"
   ]
  },
  {
   "cell_type": "code",
   "execution_count": 22,
   "metadata": {
    "tags": []
   },
   "outputs": [],
   "source": [
    "from pyba.CameraNetwork import CameraNetwork\n",
    "camNet = CameraNetwork(points2d=points2d, calib=calib)"
   ]
  },
  {
   "cell_type": "code",
   "execution_count": 23,
   "metadata": {},
   "outputs": [
    {
     "output_type": "execute_result",
     "data": {
      "text/plain": [
       "174.46979936316617"
      ]
     },
     "metadata": {},
     "execution_count": 23
    }
   ],
   "source": [
    "np.mean(camNet.reprojection_error())"
   ]
  },
  {
   "cell_type": "code",
   "execution_count": 19,
   "metadata": {},
   "outputs": [
    {
     "output_type": "stream",
     "name": "stdout",
     "text": [
      "   Iteration     Total nfev        Cost      Cost reduction    Step norm     Optimality   \n",
      "       0              1         5.3465e+09                                    2.84e+12    \n",
      "       1              3         1.1902e+09      4.16e+09       3.76e+03       1.82e+11    \n",
      "       2              5         5.6601e+08      6.24e+08       4.46e+02       2.73e+11    \n",
      "       3              6         2.2869e+08      3.37e+08       6.48e+02       2.98e+10    \n",
      "       4              7         1.1516e+08      1.14e+08       1.07e+03       2.72e+09    \n",
      "       5              9         9.0944e+07      2.42e+07       1.26e+02       1.67e+09    \n",
      "       6             10         6.7738e+07      2.32e+07       1.65e+02       5.55e+08    \n",
      "       7             11         5.2147e+07      1.56e+07       5.55e+02       1.17e+11    \n",
      "       8             13         4.3212e+07      8.94e+06       1.04e+02       1.21e+10    \n",
      "       9             14         4.1966e+07      1.25e+06       2.22e+02       2.50e+10    \n",
      "      10             15         3.4717e+07      7.25e+06       2.80e+01       2.11e+09    \n",
      "      11             16         3.2762e+07      1.96e+06       1.75e+01       3.87e+08    \n",
      "      12             17         3.1293e+07      1.47e+06       2.43e+02       1.87e+08    \n",
      "      13             18         2.9020e+07      2.27e+06       4.85e+02       7.20e+08    \n",
      "      14             20         2.8111e+07      9.09e+05       2.74e+02       6.61e+07    \n",
      "      15             21         2.6456e+07      1.65e+06       4.54e+02       1.15e+08    \n",
      "      16             23         2.5736e+07      7.21e+05       1.99e+02       4.29e+07    \n",
      "      17             24         2.4122e+07      1.61e+06       3.11e+02       3.04e+07    \n",
      "      18             25         2.2439e+07      1.68e+06       5.31e+02       1.59e+09    \n",
      "      19             26         1.9730e+07      2.71e+06       5.89e+02       1.17e+09    \n",
      "      20             27         1.6805e+07      2.93e+06       3.48e+03       1.42e+08    \n",
      "      21             29         1.5896e+07      9.09e+05       1.33e+04       1.10e+08    \n",
      "      22             30         1.5623e+07      2.73e+05       8.83e+04       4.82e+08    \n",
      "      23             32         1.4342e+07      1.28e+06       5.79e+02       1.64e+08    \n",
      "      24             34         1.4089e+07      2.53e+05       2.36e+02       1.08e+08    \n",
      "      25             35         1.3935e+07      1.54e+05       4.99e+02       1.96e+08    \n",
      "      26             36         1.3736e+07      1.99e+05       7.83e+02       1.11e+09    \n",
      "      27             39         1.3601e+07      1.35e+05       1.78e+01       1.03e+08    \n",
      "      28             40         1.3482e+07      1.19e+05       4.74e+01       1.04e+07    \n",
      "      29             41         1.3416e+07      6.58e+04       2.23e+01       1.03e+07    \n",
      "      30             42         1.3375e+07      4.09e+04       3.19e+01       3.88e+07    \n",
      "      31             43         1.3321e+07      5.35e+04       5.55e+01       1.37e+07    \n",
      "      32             44         1.3254e+07      6.72e+04       1.56e+02       2.18e+07    \n",
      "      33             45         1.3128e+07      1.26e+05       2.96e+02       8.26e+08    \n",
      "      34             46         1.2891e+07      2.37e+05       5.64e+02       6.23e+07    \n",
      "      35             48         1.2774e+07      1.17e+05       3.48e+02       2.02e+07    \n",
      "      36             49         1.2550e+07      2.24e+05       6.37e+02       3.71e+07    \n",
      "      37             50         1.2231e+07      3.19e+05       1.87e+03       8.71e+07    \n",
      "      38             51         1.1805e+07      4.27e+05       4.50e+03       4.99e+08    \n",
      "      39             52         1.1044e+07      7.61e+05       8.61e+03       9.69e+07    \n",
      "      40             54         1.0685e+07      3.59e+05       4.80e+03       9.07e+07    \n",
      "      41             56         1.0290e+07      3.96e+05       7.61e+02       4.80e+07    \n",
      "      42             58         1.0179e+07      1.11e+05       3.72e+02       9.45e+07    \n",
      "      43             59         9.6344e+06      5.45e+05       2.88e+02       2.71e+07    \n",
      "      44             60         9.5012e+06      1.33e+05       5.78e+02       3.54e+08    \n",
      "      45             62         9.0767e+06      4.24e+05       1.29e+02       1.78e+08    \n",
      "      46             63         8.8424e+06      2.34e+05       2.54e+02       3.60e+07    \n",
      "      47             65         8.7182e+06      1.24e+05       1.55e+02       1.93e+07    \n",
      "      48             66         8.6252e+06      9.30e+04       3.19e+02       5.53e+07    \n",
      "      49             67         8.5190e+06      1.06e+05       8.76e+02       9.78e+06    \n",
      "      50             68         8.3879e+06      1.31e+05       2.06e+03       5.33e+07    \n",
      "      51             69         8.1367e+06      2.51e+05       3.61e+03       3.78e+08    \n",
      "      52             71         7.9583e+06      1.78e+05       7.48e+02       8.42e+07    \n",
      "      53             73         7.8974e+06      6.09e+04       3.90e+02       5.63e+07    \n",
      "      54             74         7.8167e+06      8.07e+04       7.48e+02       8.04e+07    \n",
      "      55             75         7.7929e+06      2.38e+04       1.48e+03       5.56e+08    \n",
      "      56             78         7.6522e+06      1.41e+05       5.93e+00       3.82e+08    \n",
      "      57             79         7.5852e+06      6.70e+04       1.26e+01       2.82e+07    \n",
      "      58             80         7.5786e+06      6.64e+03       2.31e+01       5.27e+08    \n",
      "      59             81         7.5599e+06      1.86e+04       1.60e+01       1.73e+08    \n",
      "      60             82         7.5485e+06      1.15e+04       5.74e+01       1.32e+09    \n",
      "      61             83         7.5214e+06      2.71e+04       1.09e+02       3.15e+09    \n",
      "      62             84         7.4799e+06      4.14e+04       2.98e+02       4.70e+09    \n",
      "      63             86         7.4623e+06      1.76e+04       1.79e+02       2.28e+09    \n",
      "      64             87         7.4283e+06      3.41e+04       3.31e+02       2.50e+09    \n",
      "      65             88         7.3823e+06      4.60e+04       8.73e+02       1.19e+10    \n",
      "      66             89         7.2922e+06      9.01e+04       1.74e+03       2.53e+10    \n",
      "      67             90         7.1187e+06      1.74e+05       3.46e+03       5.63e+10    \n",
      "      68             91         6.9105e+06      2.08e+05       6.89e+03       3.96e+11    \n",
      "      69             92         6.4966e+06      4.14e+05       6.03e+03       4.11e+11    \n",
      "      70             93         6.0717e+06      4.25e+05       1.20e+04       9.75e+12    \n",
      "      71             95         5.7384e+06      3.33e+05       2.46e+03       1.30e+12    \n",
      "      72             96         5.4799e+06      2.58e+05       4.62e+03       5.00e+11    \n",
      "      73             98         5.4008e+06      7.92e+04       9.14e+02       8.39e+10    \n",
      "      74             100        5.4008e+06      0.00e+00       0.00e+00       8.39e+10    \n",
      "The maximum number of function evaluations is exceeded.\n",
      "Function evaluations 100, initial cost 5.3465e+09, final cost 5.4008e+06, first-order optimality 8.39e+10.\n"
     ]
    },
    {
     "output_type": "execute_result",
     "data": {
      "text/plain": [
       " active_mask: array([0., 0., 0., ..., 0., 0., 0.])\n",
       "        cost: 5400756.22168341\n",
       "         fun: array([ 7.62405411, 39.71863602, -3.58254309, ..., -0.63300202,\n",
       "        0.14134521,  0.94948387])\n",
       "        grad: array([ 42257.63266238, -28401.76627337, -10342.1938385 , ...,\n",
       "           95.37032207,    106.55077162,   -138.70255996])\n",
       "         jac: <8032x3637 sparse matrix of type '<class 'numpy.float64'>'\n",
       "\twith 128512 stored elements in Compressed Sparse Row format>\n",
       "     message: 'The maximum number of function evaluations is exceeded.'\n",
       "        nfev: 100\n",
       "        njev: 74\n",
       "  optimality: 83875795274.10686\n",
       "      status: 0\n",
       "     success: False\n",
       "           x: array([-0.02361388,  0.29976126, -0.47144228, ...,  0.57630795,\n",
       "        0.36929679, -1.41541872])"
      ]
     },
     "metadata": {},
     "execution_count": 19
    }
   ],
   "source": [
    "from pyba.pyba import bundle_adjust\n",
    "bundle_adjust(camNet, update_distort=False, update_intrinsic=False, max_num_images=1000)"
   ]
  },
  {
   "cell_type": "code",
   "execution_count": 20,
   "metadata": {},
   "outputs": [
    {
     "output_type": "execute_result",
     "data": {
      "text/plain": [
       "7.108609315654906"
      ]
     },
     "metadata": {},
     "execution_count": 20
    }
   ],
   "source": [
    "np.mean(camNet.reprojection_error())"
   ]
  },
  {
   "cell_type": "code",
   "execution_count": null,
   "metadata": {},
   "outputs": [],
   "source": []
  }
 ]
}