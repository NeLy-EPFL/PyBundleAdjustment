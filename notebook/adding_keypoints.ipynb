{
 "metadata": {
  "language_info": {
   "codemirror_mode": {
    "name": "ipython",
    "version": 3
   },
   "file_extension": ".py",
   "mimetype": "text/x-python",
   "name": "python",
   "nbconvert_exporter": "python",
   "pygments_lexer": "ipython3",
   "version": "3.6.13-final"
  },
  "orig_nbformat": 2,
  "kernelspec": {
   "name": "python3",
   "display_name": "Python 3.6.13 64-bit",
   "metadata": {
    "interpreter": {
     "hash": "f64fee6898e73aced1db9df4e6ad9d0ee5fc3ec1a188df7a969ec72383833de3"
    }
   }
  }
 },
 "nbformat": 4,
 "nbformat_minor": 2,
 "cells": [
  {
   "cell_type": "code",
   "execution_count": 6,
   "metadata": {},
   "outputs": [
    {
     "output_type": "stream",
     "name": "stdout",
     "text": [
      "The autoreload extension is already loaded. To reload it, use:\n  %reload_ext autoreload\n"
     ]
    }
   ],
   "source": [
    "%load_ext autoreload\n",
    "%autoreload 2\n",
    "\n",
    "from pyba.CameraNetwork import CameraNetwork\n",
    "import pickle\n",
    "import glob\n",
    "import numpy as np\n",
    "from pyba.config import df3d_colors, df3d_bones\n",
    "\n",
    "image_path = '/home/user/Desktop/DeepFly3D/sample/test/camera_{cam_id}_img_{img_id}.jpg'\n",
    "pr_path = '/home/user/Desktop/DeepFly3D/sample/test/df3d/df3d_result*.pkl'\n",
    "d = pickle.load(open(glob.glob(pr_path)[0], 'rb'))\n",
    "\n",
    "# append your new keypoints here\n",
    "#   if you have the points only for certain cameras, then set other points to zeros\n",
    "n_cameras, n_times, n_new_points = 7, 100, 3\n",
    "new_keypoints = np.random.uniform(low=0, high=1, size=(n_cameras, n_times, n_new_points, 2))\n",
    "\n",
    "# df3d points2d are saved in normalized into [0,1], rescale them into image shape\n",
    "camNet = CameraNetwork(points2d=new_keypoints*[480, 960], calib=d, image_path=image_path)\n",
    "\n",
    "# perhaps visualize your keypoints using camNet.plot_2d function as a sanity check first \n",
    "\n",
    "# triangulate to get all 3d points\n",
    "points3d = camNet.triangulate()\n"
   ]
  }
 ]
}
